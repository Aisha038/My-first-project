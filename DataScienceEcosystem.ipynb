{
  "metadata": {
    "kernelspec": {
      "name": "python",
      "display_name": "Python (Pyodide)",
      "language": "python"
    },
    "language_info": {
      "codemirror_mode": {
        "name": "python",
        "version": 3
      },
      "file_extension": ".py",
      "mimetype": "text/x-python",
      "name": "python",
      "nbconvert_exporter": "python",
      "pygments_lexer": "ipython3",
      "version": "3.8"
    }
  },
  "nbformat_minor": 5,
  "nbformat": 4,
  "cells": [
    {
      "id": "a80a32cb-222f-4dbb-b0f7-b78f194f9b6e",
      "cell_type": "markdown",
      "source": "# Data Science Tools And ecosystem",
      "metadata": {}
    },
    {
      "id": "b1938dbe-a941-4875-a411-1a1582aece78",
      "cell_type": "code",
      "source": "# In This notebook, Data Science Tools and Ecosystem are summarized",
      "metadata": {
        "trusted": true
      },
      "outputs": [],
      "execution_count": null
    },
    {
      "id": "3a31e1af-462a-48cf-a480-adfa48ba4aea",
      "cell_type": "markdown",
      "source": "# Some of the populer languages that data scientists use are:\n1. Phython\n2. SQL\n3. C++\n4. Java",
      "metadata": {}
    },
    {
      "id": "9a9f8c01-0aaf-477b-9317-30b7cc1069df",
      "cell_type": "markdown",
      "source": "# Some of the commonly used libraies used by Data Scientists include:\n1. Numpy\n2. Pandas\n3. Metplotlib\n4. Tensorflow",
      "metadata": {}
    },
    {
      "id": "e0a9c4af-9452-4294-b6ba-3dd79fbddbe1",
      "cell_type": "markdown",
      "source": "# Data Science Tools\n| Category |Tool |\n|----------|------|\n| Programing Language | Phython, R ,SQL |\n| data Handling | Pandas , Numpy |\n|Data Visualization | Matplotlib, Plotly, Tableau|",
      "metadata": {}
    },
    {
      "id": "1d0c0c37-7f18-4b54-a522-2abc35e2692d",
      "cell_type": "markdown",
      "source": "### Below are a few examples of evaluating arithmetic expressions in phython",
      "metadata": {}
    },
    {
      "id": "0f3aa2da-879b-4801-9b1a-ac85a35de88d",
      "cell_type": "code",
      "source": "# This is simple arithmetic expression to multiply then add\n(3*4)+5",
      "metadata": {
        "trusted": true
      },
      "outputs": [
        {
          "execution_count": 1,
          "output_type": "execute_result",
          "data": {
            "text/plain": "17"
          },
          "metadata": {}
        }
      ],
      "execution_count": 1
    },
    {
      "id": "1e620115-7b4d-41bb-bbc8-9eb81c5c198a",
      "cell_type": "code",
      "source": "# This will convert 200 minutes to hours by dividing 60\n200/60",
      "metadata": {
        "trusted": true
      },
      "outputs": [
        {
          "execution_count": 2,
          "output_type": "execute_result",
          "data": {
            "text/plain": "3.3333333333333335"
          },
          "metadata": {}
        }
      ],
      "execution_count": 2
    },
    {
      "id": "b804c2d8-e298-4c38-ab72-e398fec0ce94",
      "cell_type": "markdown",
      "source": "***Objective***\n# unorders list\n* Phython\n* Sql\n* R programming\n* libries numpy pandas\n* Jupiterlite\n* Fre sources of jupyter",
      "metadata": {}
    },
    {
      "id": "4e3f06fd-b8df-4692-a48b-ef0942752410",
      "cell_type": "markdown",
      "source": "## auther \nAisha Pathan",
      "metadata": {}
    },
    {
      "id": "017011c8-8a59-4aa7-93b5-f10e510199b4",
      "cell_type": "code",
      "source": "",
      "metadata": {
        "trusted": true
      },
      "outputs": [],
      "execution_count": null
    }
  ]
}